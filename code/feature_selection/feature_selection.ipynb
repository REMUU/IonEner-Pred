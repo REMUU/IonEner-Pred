{
 "cells": [
  {
   "cell_type": "markdown",
   "metadata": {
    "collapsed": true,
    "pycharm": {
     "name": "#%% md\n"
    }
   },
   "source": [
    "# Feature Selection and PCA Cumulative Variance Analysis"
   ]
  },
  {
   "cell_type": "code",
   "execution_count": null,
   "metadata": {
    "collapsed": false,
    "pycharm": {
     "name": "#%%\n"
    }
   },
   "outputs": [],
   "source": [
    "import pandas as pd\n",
    "from sklearn import preprocessing, decomposition\n",
    "import numpy as np\n",
    "\n",
    "import seaborn as sns\n",
    "import matplotlib.pyplot as plt"
   ]
  },
  {
   "cell_type": "markdown",
   "metadata": {
    "collapsed": false,
    "pycharm": {
     "name": "#%% md\n"
    }
   },
   "source": [
    "## Import Data and Proprocess"
   ]
  },
  {
   "cell_type": "code",
   "execution_count": null,
   "metadata": {
    "collapsed": false,
    "pycharm": {
     "name": "#%%\n"
    }
   },
   "outputs": [],
   "source": [
    "data = pd.read_csv(r'input_csv_path')\n",
    "\n",
    "dataset = data.iloc[:,4:]\n",
    "dataset = dataset.corr().pow(2)\n",
    "dataset"
   ]
  },
  {
   "cell_type": "code",
   "execution_count": null,
   "metadata": {
    "collapsed": false,
    "pycharm": {
     "name": "#%%\n"
    }
   },
   "outputs": [],
   "source": [
    "dataset_sort = dataset.iloc[:,:1]\n",
    "dataset_sort = dataset_sort.sort_values('IE', axis=0, ascending=False)\n",
    "dataset_sort = dataset_sort.drop('apol')\n",
    "highcorr_discriptors = list(dataset_sort.index[0:21])\n",
    "print(highcorr_discriptors)\n",
    "top_twenty = dataset.loc[highcorr_discriptors,highcorr_discriptors]\n",
    "top_twenty"
   ]
  },
  {
   "cell_type": "markdown",
   "metadata": {
    "collapsed": false,
    "pycharm": {
     "name": "#%% md\n"
    }
   },
   "source": [
    "## Remain the 20 Descriptors of Highest R2 and Plot"
   ]
  },
  {
   "cell_type": "code",
   "execution_count": null,
   "metadata": {
    "collapsed": false,
    "pycharm": {
     "name": "#%%\n"
    }
   },
   "outputs": [],
   "source": [
    "def plot_heatmap(data, vmin=0):\n",
    "    plt.figure(figsize=(10,10))\n",
    "    ax = sns.heatmap(data, cbar=False, cmap='OrRd',\n",
    "                     vmin=vmin, square=True, annot=True,\n",
    "                     fmt='.2f')\n",
    "    plt.tight_layout()\n",
    "    plt.show()\n",
    "\n",
    "\n",
    "plot_heatmap(top_twenty, 0)"
   ]
  },
  {
   "cell_type": "markdown",
   "metadata": {
    "collapsed": false,
    "pycharm": {
     "name": "#%% md\n"
    }
   },
   "source": [
    "## Cumulative Variance Analysis by PCA"
   ]
  },
  {
   "cell_type": "code",
   "execution_count": null,
   "metadata": {
    "collapsed": false,
    "pycharm": {
     "name": "#%%\n"
    }
   },
   "outputs": [],
   "source": [
    "# list the descriptors as the descending of R2\n",
    "dataset_sort = dataset.iloc[:,:1]\n",
    "dataset_sort = dataset_sort.sort_values('IE', axis=0, ascending=False)\n",
    "dataset_sort = dataset_sort.drop('apol')\n",
    "highcorr_discriptors = list(dataset_sort.index[1:])\n",
    "\n",
    "dataset_descriptors = data[highcorr_discriptors]\n",
    "\n",
    "dataset_descriptors = preprocessing.quantile_transform(dataset_descriptors)\n",
    "pca_dict = {'number of descriptors':[],\n",
    "            'cumulative variance':[]}\n",
    "n = 0\n",
    "for i in range(len(data.iloc[:,5:].columns)):\n",
    "    pca = decomposition.PCA(n_components=i)\n",
    "    pca.fit(dataset_descriptors)\n",
    "    cumvar = sum(pca.explained_variance_ratio_)\n",
    "    pca_dict['number of descriptors'].append(i+1)\n",
    "    pca_dict['cumulative variance'].append(cumvar)\n",
    "    \n",
    "    try:\n",
    "        if i==19:\n",
    "            print(pca_dict['number of descriptors'][i])\n",
    "            print(pca_dict['cumulative variance'][i])\n",
    "            continue\n",
    "        \n",
    "        if pca_dict['cumulative variance'][i] >= 0.90 and n==0:\n",
    "            print(pca_dict['number of descriptors'][i])\n",
    "            print(pca_dict['cumulative variance'][i])\n",
    "            n+=1\n",
    "            continue\n",
    "        if pca_dict['cumulative variance'][i] >= 0.95 and n==1:\n",
    "            print(pca_dict['number of descriptors'][i])\n",
    "            print(pca_dict['cumulative variance'][i])\n",
    "            n+=1\n",
    "            continue\n",
    "        if pca_dict['cumulative variance'][i] >= 0.99 and n==2:\n",
    "            print(pca_dict['number of descriptors'][i])\n",
    "            print(pca_dict['cumulative variance'][i])\n",
    "            n+=1\n",
    "            continue\n",
    "        if pca_dict['cumulative variance'][i] >= 0.999 and n==3:\n",
    "            print(pca_dict['number of descriptors'][i])\n",
    "            print(pca_dict['cumulative variance'][i])\n",
    "            break\n",
    "    except:\n",
    "        continue"
   ]
  },
  {
   "cell_type": "code",
   "execution_count": null,
   "metadata": {
    "collapsed": false,
    "pycharm": {
     "name": "#%%\n"
    }
   },
   "outputs": [],
   "source": [
    "plt.figure(figsize=(16,16))\n",
    "\n",
    "plt.subplot(221)\n",
    "ax = sns.heatmap(top_twenty, cbar=False, cmap='OrRd',\n",
    "                    vmin=0, square=True, annot=True,\n",
    "                    fmt='.2f')\n",
    "plt.tight_layout()\n",
    "\n",
    "plt.subplot(222)\n",
    "\n",
    "num_component = [20, 90, 160, 360, 640, 1138]\n",
    "portion_dict = {'20':[], '90':[], '160':[], '360':[], '640':[], '1138':[]}\n",
    "\n",
    "for i in num_component:\n",
    "    descriptor = dataset_sort.index[1:i+1]\n",
    "    count_mordred = 0\n",
    "    count_maccs = 0\n",
    "    count_pubchem = 0\n",
    "    for feature in descriptor:\n",
    "        if 'Pubchem' in feature:\n",
    "            count_pubchem+=1\n",
    "        elif 'MACCSFP' in feature:\n",
    "            count_maccs+=1\n",
    "        else:\n",
    "            count_mordred+=1\n",
    "    portion_dict[str(i)].append(count_mordred)\n",
    "    portion_dict[str(i)].append(count_maccs)\n",
    "    portion_dict[str(i)].append(count_pubchem)\n",
    "\n",
    "x = portion_dict.keys()\n",
    "y1 = [i[0] for i in portion_dict.values()]\n",
    "y2 = [i[1] for i in portion_dict.values()]\n",
    "y3 = [i[2] for i in portion_dict.values()]\n",
    "\n",
    "width = 5\n",
    "bins2 = np.array(np.arange(0,102,17))\n",
    "print(bins2)\n",
    "bins1 = bins2-5\n",
    "bins3 = bins2+5\n",
    "\n",
    "plt.bar(bins1,y1,width=width,label='Mordred')\n",
    "plt.bar(bins2,y2,width=width,tick_label=num_component,label='MACCS')\n",
    "plt.bar(bins3,y3,width=width,label='PUBCHEM')\n",
    "\n",
    "x0 = -5\n",
    "for xi,yi in zip(bins1,y1):\n",
    "    plt.text(x0,yi+2,yi, ha='center', va='bottom')\n",
    "    x0+=17\n",
    "\n",
    "x0 = 0\n",
    "for xi,yi in zip(bins2,y2):\n",
    "    plt.text(x0,yi+2,yi, ha='center', va='bottom')\n",
    "    x0+=17\n",
    "\n",
    "x0 = 5\n",
    "for xi,yi in zip(bins3,y3):\n",
    "    plt.text(x0,yi+2,yi, ha='center', va='bottom')\n",
    "    x0+=17\n",
    "\n",
    "plt.legend()\n",
    "plt.xlabel('Number of Ascending Ranked Descriptors in the Set')\n",
    "plt.ylabel('Number of Descriptors')\n",
    "plt.tight_layout()\n",
    "\n",
    "plt.subplot(212)\n",
    "df = pd.read_csv(r'input_csv_path')\n",
    "x = [20,90,160,360,640,1138]\n",
    "for i in x:\n",
    "    plt.vlines(i, 0, 1,colors='black',linewidth=1,linestyles='dashdot')\n",
    "for i in range(8):\n",
    "    plt.plot(x,df.iloc[i,1:],label=df['Algorithm'][i],linewidth=2)\n",
    "plt.ylim([0.39,0.82])\n",
    "plt.xlim([10,1145])\n",
    "plt.ylabel('RMSE')\n",
    "plt.xlabel('Number of Descriptors')\n",
    "plt.legend()\n",
    "plt.xticks(x)\n",
    "plt.tight_layout()\n",
    "plt.savefig(r'output_png_path',dpi=328)\n",
    "plt.show()\n"
   ]
  }
 ],
 "metadata": {
  "kernelspec": {
   "display_name": "Python 3.8.5 ('IEpaper')",
   "language": "python",
   "name": "python3"
  },
  "language_info": {
   "codemirror_mode": {
    "name": "ipython",
    "version": 3
   },
   "file_extension": ".py",
   "mimetype": "text/x-python",
   "name": "python",
   "nbconvert_exporter": "python",
   "pygments_lexer": "ipython3",
   "version": "3.8.5"
  },
  "vscode": {
   "interpreter": {
    "hash": "53154d1a2a0088dd68bc733286051f8ac22fd332162687829b16732c6fe32eb2"
   }
  }
 },
 "nbformat": 4,
 "nbformat_minor": 2
}
