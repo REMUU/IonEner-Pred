{
  "cells": [
    {
      "cell_type": "markdown",
      "metadata": {
        "id": "_q5gUzhZQIsy"
      },
      "source": [
        "# Obtain the SVR Model Using the Fullset"
      ]
    },
    {
      "cell_type": "code",
      "execution_count": null,
      "metadata": {
        "id": "G7aW6Ox9H15D"
      },
      "outputs": [],
      "source": [
        "# Scikit-Learn\n",
        "from sklearn.preprocessing import quantile_transform\n",
        "from sklearn.model_selection import train_test_split\n",
        "from sklearn.model_selection import KFold\n",
        "from sklearn import svm\n",
        "\n",
        "# Matplotlib \n",
        "import matplotlib.pyplot as plt\n",
        "import matplotlib.lines as mlines\n",
        "\n",
        "# Data Structure and Math\n",
        "import pandas as pd\n",
        "import numpy as np\n",
        "from scipy.stats import pearsonr\n",
        "import math\n",
        "\n",
        "# Descriptor Calculators\n",
        "import padelpy\n",
        "from padelpy import padeldescriptor\n",
        "from rdkit import Chem\n",
        "from rdkit.Chem import MACCSkeys\n",
        "from mordred import Calculator, descriptors\n",
        "\n",
        "# Model IO\n",
        "from joblib import dump, load"
      ]
    },
    {
      "cell_type": "code",
      "execution_count": null,
      "metadata": {
        "id": "kXA-SvqGIjUe"
      },
      "outputs": [],
      "source": [
        "# define RMSE\n",
        "def rmse(predictions, targets):\n",
        "    return np.sqrt(((predictions - targets) ** 2).mean())\n",
        "\n",
        "# define the SVR model\n",
        "svr = svm.SVR(gamma='scale',C=20,epsilon=0.01)\n",
        "\n",
        "# define a function to get model's output efficiently\n",
        "def ml_model(splited_data,regressor_object):\n",
        "    X_train, X_test, y_train, y_test = \\\n",
        "        splited_data[0], splited_data[1], splited_data[2], splited_data[3]\n",
        "    regressor_object.fit(X_train, y_train)\n",
        "    # get predictions from the train set\n",
        "    train_prediction = regressor_object.predict(X_train)\n",
        "    R2_train = np.square(pearsonr(y_train, train_prediction)[0])\n",
        "    RMSE_train = rmse(y_train, train_prediction)\n",
        "    # get the prediction from the test set\n",
        "    test_prediction = regressor_object.predict(X_test)\n",
        "    R2_test = np.square(pearsonr(y_test, test_prediction)[0])\n",
        "    RMSE_test = rmse(y_test, test_prediction)\n",
        "    # generate formatted output in the list\n",
        "    return [R2_train, RMSE_train, R2_test, RMSE_test, test_prediction], regressor_object"
      ]
    },
    {
      "cell_type": "code",
      "execution_count": null,
      "metadata": {
        "id": "T69B_RtLB6Tz"
      },
      "outputs": [],
      "source": [
        "data = pd.read_csv('https://raw.githubusercontent.com/REMUU/IonEner-Pred/main/datasets/full_set/nist_organic_full_set.csv')"
      ]
    },
    {
      "cell_type": "code",
      "execution_count": null,
      "metadata": {
        "id": "M8RYT6t7Q2wI"
      },
      "outputs": [],
      "source": [
        "# get name of descriptors\n",
        "des_cols = data.iloc[:,5:].columns\n",
        "\n",
        "# scale the data by quantile_transform\n",
        "X = quantile_transform(data.iloc[:,5:])\n",
        "y = data['IE']\n",
        "kf = KFold(n_splits=10)\n",
        "kf.get_n_splits(X)\n",
        "\n",
        "# store metrics during each fold\n",
        "test_cv_df = pd.DataFrame(columns=['Regressor', 'R^2', 'RMSE', 'Fold Number'])\n",
        "\n",
        "# run the 10-Fold-CV for SVR\n",
        "y_predicted_list = []\n",
        "y_experimental_list = []\n"
      ]
    },
    {
      "cell_type": "code",
      "execution_count": null,
      "metadata": {
        "colab": {
          "base_uri": "https://localhost:8080/"
        },
        "id": "ezaV5W7NIWB8",
        "outputId": "9a812981-af44-4875-90d1-417b17b450b3"
      },
      "outputs": [],
      "source": [
        "# loop for CVs of sklearn and xgb objects\n",
        "fold_number = 0\n",
        "for train_index, test_index in kf.split(X):\n",
        "    fold_number += 1\n",
        "    X_train, X_test = X[train_index], X[test_index]\n",
        "    y_train, y_test = y[train_index], y[test_index]\n",
        "    splited_data = [X_train, X_test, y_train, y_test]\n",
        "\n",
        "    metrics, mo = ml_model(splited_data, svr)\n",
        "\n",
        "    test_new_row = pd.DataFrame([['SVR', metrics[2], metrics[3], fold_number]], columns= \\\n",
        "                                ['Regressor', 'R^2', 'RMSE', 'Fold Number'])\n",
        "    test_cv_df = test_cv_df.append(test_new_row, ignore_index=True)\n",
        "\n",
        "    y_predicted_list.extend(metrics[4])\n",
        "    y_experimental_list.extend(y_test)\n",
        "    print('SVR', 'at fold ', fold_number)\n",
        "    print('RMSE: {} eV; R2: {}.'.format(round(metrics[3],3), round(metrics[2],3)))\n",
        "    \n",
        "    dump(mo, '{}_fold_svr.joblib'.format(fold_number))\n",
        "\n",
        "    for i in range(len(test_index)):\n",
        "        ind_name = test_index[i]\n",
        "        mol = data.iloc[:,:5].iloc[[ind_name]].values[0]\n",
        "        new_row = pd.DataFrame([[mol[0], mol[1], mol[2], mol[3], mol[4], metrics[4][i]]], \\\n",
        "            columns=['CAS Name','InChI','CAS Link','smiles','IE', 'Predicted IE'])\n"
      ]
    },
    {
      "cell_type": "code",
      "execution_count": null,
      "metadata": {
        "colab": {
          "base_uri": "https://localhost:8080/"
        },
        "id": "RrSrfY-mLJH-",
        "outputId": "7815a05b-67d0-4761-b127-af8251eea1dc"
      },
      "outputs": [],
      "source": [
        "print('RMSE and R^2 during the 10-Fold-CV is {} eV and {}.'.format(round(np.mean(test_cv_df['RMSE']),3),round(np.mean(test_cv_df['R^2']),3)))\n",
        "print('Please check the metrics. If it defer from values in the paper, something must be going wrong and the result should not be used or compared.')\n",
        "print('Notice: The RMSE and R^2 in the paper is 0.405 eV and 0.865.')"
      ]
    },
    {
      "cell_type": "markdown",
      "metadata": {
        "id": "1raALoNxQSVN"
      },
      "source": [
        "# Predict IE of the New Molecule Here"
      ]
    },
    {
      "cell_type": "markdown",
      "metadata": {
        "id": "SPRTDCV1dWnh"
      },
      "source": [
        "### Please Enter Your SMILES in the Next Code Block"
      ]
    },
    {
      "cell_type": "code",
      "execution_count": null,
      "metadata": {
        "id": "l4oj7PEORD3T"
      },
      "outputs": [],
      "source": [
        "# input your molecules in ['smiles', boolean of radical] format and in the [] for storing multiple molecules\n",
        "# if it is radical, input 1 and if not input 0\n",
        "new_records = [['CCOC=O',0],['CCC1C2CC3CC(C2)CC1C3',0]] "
      ]
    },
    {
      "attachments": {},
      "cell_type": "markdown",
      "metadata": {},
      "source": [
        "### Check elements out of application domain"
      ]
    },
    {
      "cell_type": "code",
      "execution_count": null,
      "metadata": {},
      "outputs": [],
      "source": [
        "# the application domain is limited to following elements where elements outside of the range will let to expected higher errors\n",
        "appDomain = ['H', \n",
        "             'B', 'C', 'N', 'O','F',\n",
        "             'Si', 'P', 'S', 'Cl',\n",
        "             'Ge', 'As', 'Se', 'Br',\n",
        "             'I',]\n",
        "\n",
        "\n",
        "atomInAppDomain = []\n",
        "atomNotInAppDomain = []\n",
        "\n",
        "for rec in new_records:\n",
        "    smi = rec[0]\n",
        "    mol = Chem.MolFromSmiles(smi)\n",
        "    for atom in mol.GetAtoms():\n",
        "        at = atom.GetSymbol()\n",
        "        if at in appDomain and at not in atomInAppDomain:\n",
        "            atomInAppDomain.append(at)\n",
        "            continue\n",
        "        if at not in appDomain and at not in atomNotInAppDomain:\n",
        "            atomNotInAppDomain.append(at)\n",
        "\n",
        "aInA = ''\n",
        "for i in atomInAppDomain:\n",
        "    if aInA == '':\n",
        "        aInA = i\n",
        "        continue\n",
        "    aInA = aInA + ', ' + i\n",
        "\n",
        "aNotInA = ''\n",
        "for i in atomNotInAppDomain:\n",
        "    if aNotInA == '':\n",
        "        aNotInA = i\n",
        "        continue\n",
        "    aNotInA = aNotInA + ', ' + i\n",
        "\n",
        "\n",
        "print('Elements {} are elements that we used to train those model. It is likely that the user will get a similar performance with our study.'.format(aInA))\n",
        "if atomNotInAppDomain != []:\n",
        "    print('!!!!!!!!!!!!!!!!!!!!!!WARNING!!!!!!!!!!!!!!!!!!!!!!')\n",
        "    print(\"Following elements are not presented in the training of models. Our parameters may generate very different results as the user's expectation. Please Use with Cautions.\")\n",
        "    print(aNotInA)"
      ]
    },
    {
      "cell_type": "code",
      "execution_count": null,
      "metadata": {
        "colab": {
          "base_uri": "https://localhost:8080/"
        },
        "id": "3X9HuwJndnSf",
        "outputId": "2a213a36-bf45-4dbf-d4d5-451348933c4b"
      },
      "outputs": [],
      "source": [
        "# calculate descriptors\n",
        "# please note that this work flow is designed for fast implementation in the COLAB interface\n",
        "# the result may be varied from the approach described in the paper\n",
        "calc = Calculator(descriptors, ignore_3D=True)\n",
        "padeldescriptor(descriptortypes='./descriptors.xml')\n",
        "df_pred = pd.DataFrame()\n",
        "\n",
        "for rec in new_records:\n",
        "  smi = rec[0]\n",
        "  rad = rec[1]\n",
        "  try:\n",
        "    mol = Chem.MolFromSmiles(smi)\n",
        "  except:\n",
        "    print('SMILES: {} is invalid, please check your input.')\n",
        "  # calculate and merge descriptors\n",
        "  mordred_descriptors = calc(mol)\n",
        "  mordred_df = pd.DataFrame([float(i[1]) for i in mordred_descriptors.items()], index=[str(i[0]) for i in mordred_descriptors.items()]).T\n",
        "  maccs_pubchem_descriptors = padelpy.from_smiles(smi, fingerprints=True, descriptors=False, output_csv=None)\n",
        "  maccs_pubchem_df = pd.DataFrame([[float(i[1]) for i in maccs_pubchem_descriptors.items()]], columns=[i[0] for i in maccs_pubchem_descriptors.items()])\n",
        "  descriptor_df = pd.concat([pd.DataFrame([[smi,rad]],columns=['SMILES','BinaryRadical']),mordred_df,maccs_pubchem_df],axis=1)\n",
        "  df_pred = pd.concat([df_pred,descriptor_df], axis=0)\n"
      ]
    },
    {
      "attachments": {},
      "cell_type": "markdown",
      "metadata": {},
      "source": [
        "## Make Prediction Here"
      ]
    },
    {
      "cell_type": "markdown",
      "metadata": {},
      "source": [
        "### Best of 10"
      ]
    },
    {
      "cell_type": "code",
      "execution_count": null,
      "metadata": {},
      "outputs": [],
      "source": [
        "X_test = quantile_transform(df_pred[des_cols])\n",
        "\n",
        "ie_preds = []\n",
        "fold_counts = [i+1 for i in range(10)]\n",
        "\n",
        "for f in fold_counts:\n",
        "    reg = load('{}_fold_svr.joblib'.format(f))\n",
        "    ie_preds.append(reg.predict(X_test))\n",
        "\n",
        "print(ie_preds)\n",
        "print(np.average(ie_preds,axis=0))\n",
        "print(data[data['smiles']=='CCOC=O']['IE'])\n",
        "print(data[data['smiles']=='CCC1C2CC3CC(C2)CC1C3']['IE'])\n",
        "\n"
      ]
    },
    {
      "attachments": {},
      "cell_type": "markdown",
      "metadata": {},
      "source": [
        "### Best of 3"
      ]
    },
    {
      "cell_type": "code",
      "execution_count": null,
      "metadata": {},
      "outputs": [],
      "source": [
        "X_test = quantile_transform(df_pred[des_cols])\n",
        "\n",
        "ie_preds = []\n",
        "fold_counts = [1, 9, 10]\n",
        "\n",
        "for f in fold_counts:\n",
        "    reg = load('{}_fold_svr.joblib'.format(f))\n",
        "    ie_preds.append(reg.predict(X_test))\n",
        "\n",
        "print(ie_preds)\n",
        "print(np.average(ie_preds,axis=0))\n",
        "print(data[data['smiles']=='CCOC=O']['IE'])\n",
        "print(data[data['smiles']=='CCC1C2CC3CC(C2)CC1C3']['IE'])"
      ]
    },
    {
      "attachments": {},
      "cell_type": "markdown",
      "metadata": {},
      "source": [
        "### Best of Best"
      ]
    },
    {
      "cell_type": "code",
      "execution_count": null,
      "metadata": {},
      "outputs": [],
      "source": [
        "X_test = quantile_transform(df_pred[des_cols])\n",
        "\n",
        "ie_preds = []\n",
        "fold_counts = [1]\n",
        "\n",
        "for f in fold_counts:\n",
        "    reg = load('{}_fold_svr.joblib'.format(f))\n",
        "    ie_preds.append(reg.predict(X_test))\n",
        "\n",
        "print(ie_preds)\n",
        "print(np.average(ie_preds,axis=0))\n",
        "print(data[data['smiles']=='CCOC=O']['IE'])\n",
        "print(data[data['smiles']=='CCC1C2CC3CC(C2)CC1C3']['IE'])"
      ]
    }
  ],
  "metadata": {
    "colab": {
      "provenance": []
    },
    "kernelspec": {
      "display_name": "Python 3.7.0 ('ierev')",
      "language": "python",
      "name": "python3"
    },
    "language_info": {
      "codemirror_mode": {
        "name": "ipython",
        "version": 3
      },
      "file_extension": ".py",
      "mimetype": "text/x-python",
      "name": "python",
      "nbconvert_exporter": "python",
      "pygments_lexer": "ipython3",
      "version": "3.7.0"
    },
    "vscode": {
      "interpreter": {
        "hash": "82ada90adc389a36b35a2dc40e46ece207510e598dec5a99750a816bbb6058be"
      }
    }
  },
  "nbformat": 4,
  "nbformat_minor": 0
}
